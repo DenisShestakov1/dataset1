{
  "nbformat": 4,
  "nbformat_minor": 0,
  "metadata": {
    "colab": {
      "provenance": []
    },
    "kernelspec": {
      "name": "python3",
      "display_name": "Python 3"
    },
    "language_info": {
      "name": "python"
    }
  },
  "cells": [
    {
      "cell_type": "code",
      "execution_count": null,
      "metadata": {
        "id": "Aquw0GXs6RUv"
      },
      "outputs": [],
      "source": [
        "import pprint\n",
        "from random import randint\n",
        "import matplotlib.pyplot as plt\n",
        "import numpy as np\n",
        "from scipy import stats\n",
        "import pandas as pd\n",
        "\n",
        "if __name__ == \"__main__\":\n",
        "    ptd1 = pd.read_csv('part_01.csv')\n",
        "    ptd2 = pd.read_csv('part_02.csv')\n",
        "    ptd3 = pd.read_csv('part_03.csv')\n",
        "    ptd4 = pd.read_csv('part_04.csv')\n",
        "    ptd5 = pd.read_csv('part_05.csv')\n",
        "    ptd6 = pd.read_csv('part_06.csv')\n",
        "    ptd7 = pd.read_csv('part_07.csv')\n",
        "    ptd8 = pd.read_csv('part_08.csv')\n",
        "    ptd9 = pd.read_csv('part_09.csv')\n",
        "    ptd10 = pd.read_csv('part_10.csv')\n",
        "    ptd11 = pd.read_csv('part_11.csv')\n",
        "    ptd12 = pd.read_csv('part_12.csv')\n",
        "\n",
        "    ptds = [ptd1, ptd2, ptd3, ptd4, ptd5, ptd6, ptd7, ptd8, ptd9, ptd10, ptd11, ptd12]\n",
        "\n",
        "    # shapes = [ptd1.shape[1], ptd2.shape[1], ptd3.shape[1], ptd4.shape[1], ptd5.shape[1], ptd6.shape[1], ptd7.shape[1], ptd8.shape[1], ptd9.shape[1], ptd10.shape[1], ptd11.shape[1], ptd12.shape[1]]\n",
        "\n",
        "    db1 = pd.concat([ptd1, ptd9], ignore_index=True)\n",
        "    db2 = pd.concat([ptd2, ptd11], ignore_index=True)\n",
        "    db3 = pd.concat([ptd4, ptd7], ignore_index=True)\n",
        "    db4 = pd.concat([ptd5, ptd12], ignore_index=True)\n",
        "    db5 = pd.concat([ptd6, ptd10], ignore_index=True)\n",
        "    db6 = pd.concat([ptd3, ptd8], ignore_index=True)\n",
        "\n",
        "    dbraw = [db1, db2, db3, db4, db5, db6]\n",
        "\n",
        "    db = db1"
      ]
    },
    {
      "cell_type": "code",
      "source": [
        "for i in range(1, len(dbraw)):\n",
        "    db = db.merge(dbraw[i], left_on='ID', right_on='ID')\n",
        "\n",
        "db.drop('APP_EMP_TYPE', axis= 1 , inplace= True )\n",
        "\n",
        "db.drop_duplicates()"
      ],
      "metadata": {
        "id": "N3e9OoHz8PaQ",
        "colab": {
          "base_uri": "https://localhost:8080/",
          "height": 140
        },
        "outputId": "2d1a8882-0b19-4bc8-9224-d98791ab617a"
      },
      "execution_count": null,
      "outputs": [
        {
          "output_type": "error",
          "ename": "IndentationError",
          "evalue": "unexpected indent (<ipython-input-6-0a7a085c8e0b>, line 3)",
          "traceback": [
            "\u001b[0;36m  File \u001b[0;32m\"<ipython-input-6-0a7a085c8e0b>\"\u001b[0;36m, line \u001b[0;32m3\u001b[0m\n\u001b[0;31m    ptd1 = pd.read_csv('part_01.csv')\u001b[0m\n\u001b[0m    ^\u001b[0m\n\u001b[0;31mIndentationError\u001b[0m\u001b[0;31m:\u001b[0m unexpected indent\n"
          ]
        }
      ]
    },
    {
      "cell_type": "code",
      "source": [
        "list_sm = list(db.select_dtypes(include = 'object').columns)\n",
        "en_to_rus = {'specialist': 'специалист', 'manager': 'менеджер', 'friend': 'друг', 'mother': 'мать', 'relative': 'близкий ро', 'brother': 'брат', 'sister': 'сестра', 'father': 'отец', 'other': 'дальний ро', 'daughter': 'дочь', 'son': 'сын'}\n",
        "\n",
        "for sln in list_sm:\n",
        "    db[sln].where(db[sln].str.replace(' ','').str.isalpha(), np.nan, inplace=True)\n",
        "    db[sln] = db[sln].str.lower()\n",
        "\n",
        "    db[sln] = db[sln].replace(en_to_rus)\n",
        "\n",
        "    #print(db[sln].unique())\n",
        "\n",
        "print(db['CLNT_TRUST_RELATION'].unique())\n",
        "print(db['APP_MARITAL_STATUS'].unique())\n",
        "print(db['CLNT_JOB_POSITION'].nunique())"
      ],
      "metadata": {
        "id": "z5xZF6cC8Q0x"
      },
      "execution_count": null,
      "outputs": []
    },
    {
      "cell_type": "code",
      "source": [
        "db = db.sort_values('ID')"
      ],
      "metadata": {
        "id": "z88A28NW8Q8D"
      },
      "execution_count": null,
      "outputs": []
    },
    {
      "cell_type": "code",
      "source": [
        "print(db.head(10))\n",
        "\n",
        "print(\"Rows: \" + str(db.shape[0]) + \" Cols: \" + str(db.shape[1]))"
      ],
      "metadata": {
        "id": "-GrRF8WG8TnP"
      },
      "execution_count": null,
      "outputs": []
    },
    {
      "cell_type": "code",
      "source": [
        "for i in range(1, len(dbraw)):\n",
        "      db = db.merge(dbraw[i], left_on='ID', right_on='ID')"
      ],
      "metadata": {
        "id": "g0aCNHRE8Ttk"
      },
      "execution_count": null,
      "outputs": []
    },
    {
      "cell_type": "code",
      "source": [
        "db.drop_duplicates()\n"
      ],
      "metadata": {
        "id": "4fBGsSbc8TyA"
      },
      "execution_count": null,
      "outputs": []
    },
    {
      "cell_type": "code",
      "source": [
        " db.APP_COMP_TYPE.where(db.APP_COMP_TYPE.str.replace(' ','').str.isalpha(), np.nan, inplace=True)\n",
        "    db.APP_COMP_TYPE = db.APP_COMP_TYPE.str.lower()"
      ],
      "metadata": {
        "colab": {
          "base_uri": "https://localhost:8080/"
        },
        "id": "RSwTLftj8RCW",
        "outputId": "4f349775-5f59-4dfa-a7f1-ab803beccb9c"
      },
      "execution_count": null,
      "outputs": [
        {
          "output_type": "stream",
          "name": "stdout",
          "text": [
            "Number of rows: 2100024, Number of columns: 116\n"
          ]
        }
      ]
    },
    {
      "cell_type": "code",
      "source": [
        " print(list(db.APP_COMP_TYPE.unique()))\n",
        "    dbTrans = db.T\n",
        "    dbTrans = dbTrans.drop_duplicates()\n",
        "    db = dbTrans.T\n"
      ],
      "metadata": {
        "colab": {
          "base_uri": "https://localhost:8080/"
        },
        "id": "9QqsSZV_8Ya-",
        "outputId": "58619a4f-7587-45d0-dbeb-ceff25a7dd3a"
      },
      "execution_count": null,
      "outputs": [
        {
          "output_type": "stream",
          "name": "stdout",
          "text": [
            "Duplicates in combined dataset: False\n"
          ]
        }
      ]
    },
    {
      "cell_type": "code",
      "source": [
        "db = db.sort_values('ID') #"
      ],
      "metadata": {
        "id": "3zJj84Oidcxj"
      },
      "execution_count": null,
      "outputs": []
    },
    {
      "cell_type": "code",
      "source": [
        "  print(db.head(10))"
      ],
      "metadata": {
        "id": "8eZarclTderk"
      },
      "execution_count": null,
      "outputs": []
    },
    {
      "cell_type": "code",
      "source": [
        "print(\"Rows: \" + str(db.shape[0]) + \" Cols: \" + str(db.shape[1]))"
      ],
      "metadata": {
        "id": "OoOUU2GldhRf"
      },
      "execution_count": null,
      "outputs": []
    },
    {
      "cell_type": "code",
      "source": [
        " print(db['CLNT_TRUST_RELATION'].unique)\n",
        "    print(db['APP_MARITAL_STATUS'].unique)\n",
        "    print(db['CLNT_JOB_POSITION'].unique)"
      ],
      "metadata": {
        "id": "CT38zHIudjYt"
      },
      "execution_count": null,
      "outputs": []
    }
  ]
}